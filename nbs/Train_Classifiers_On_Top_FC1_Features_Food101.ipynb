{
 "cells": [
  {
   "cell_type": "code",
   "execution_count": 1,
   "metadata": {
    "collapsed": true
   },
   "outputs": [],
   "source": [
    "%matplotlib inline\n",
    "import os, sys\n",
    "import numpy as np\n",
    "from utils_data_exploration import *\n",
    "import gc"
   ]
  },
  {
   "cell_type": "markdown",
   "metadata": {},
   "source": [
    "### Directory Structure"
   ]
  },
  {
   "cell_type": "code",
   "execution_count": 2,
   "metadata": {},
   "outputs": [
    {
     "data": {
      "text/plain": [
       "'/home/javier/Documents/YelpRestaurantPhotoClassification/nbs'"
      ]
     },
     "execution_count": 2,
     "metadata": {},
     "output_type": "execute_result"
    }
   ],
   "source": [
    "%pwd # verify you are in the correct folder"
   ]
  },
  {
   "cell_type": "code",
   "execution_count": 3,
   "metadata": {
    "collapsed": true
   },
   "outputs": [],
   "source": [
    "dataset_folder = 'food101/'"
   ]
  },
  {
   "cell_type": "code",
   "execution_count": 4,
   "metadata": {
    "collapsed": true
   },
   "outputs": [],
   "source": [
    "# Assign Relevant General Paths, i.e. dataset invariant paths\n",
    "LESSON_HOME_DIR = os.getcwd() # path tho the notebook\n",
    "DATA_DIR = LESSON_HOME_DIR + '/../data/'\n",
    "TRAIN_PATH = DATA_DIR + '/train_photos/'\n",
    "VALID_PATH = DATA_DIR + '/valid_photos/'\n",
    "SHARED_PATH = DATA_DIR + 'shared/'\n",
    "\n",
    "# Assign Specific Paths, i.e. dataset specific paths\n",
    "RESULTS_PATH = DATA_DIR + '/results/' + dataset_folder\n",
    "\n",
    "FEATURES_PATH = RESULTS_PATH + 'features/'\n",
    "CLASSIFIERS_PATH = RESULTS_PATH + 'classifiers/'"
   ]
  },
  {
   "cell_type": "markdown",
   "metadata": {},
   "source": [
    "### Start with the list of business and the FC1 Buisness (see Extract_F1_Features.ipynb)"
   ]
  },
  {
   "cell_type": "code",
   "execution_count": 5,
   "metadata": {
    "collapsed": true
   },
   "outputs": [],
   "source": [
    "businesses = np.load(SHARED_PATH+'/businesses_shuffled.npy')\n",
    "businesses_fc1_features = np.load(FEATURES_PATH + 'businesses_fc1_blueprint.npy')"
   ]
  },
  {
   "cell_type": "markdown",
   "metadata": {},
   "source": [
    "### 4-fold Cross Validation"
   ]
  },
  {
   "cell_type": "code",
   "execution_count": 6,
   "metadata": {
    "collapsed": true
   },
   "outputs": [],
   "source": [
    "nb_folds = 4\n",
    "\n",
    "folds = dict()\n",
    "total_restaurants = len(businesses)\n",
    "restaurants_per_fold = int(len(businesses) / nb_folds)\n",
    "businesses_idx = np.arange(total_restaurants)\n",
    "\n",
    "for fold in range(nb_folds):\n",
    "    folds[fold] = businesses_idx[fold*restaurants_per_fold:(fold+1)*restaurants_per_fold]"
   ]
  },
  {
   "cell_type": "markdown",
   "metadata": {},
   "source": [
    "### Retrieve the binary labels (apply / does'nt apply) for every attribute"
   ]
  },
  {
   "cell_type": "code",
   "execution_count": 7,
   "metadata": {
    "collapsed": true
   },
   "outputs": [],
   "source": [
    "attributes = 9 # possible restaurante attributes\n",
    "labels_dict = dict()\n",
    "nb_businesses = len(businesses)\n",
    "\n",
    "for attribute in range(attributes):\n",
    "    labels_dict[attribute] = np.zeros(nb_businesses)\n",
    "    for i, business in enumerate(businesses):\n",
    "        if attribute in df_train_labels.loc[business]['labels']:\n",
    "            labels_dict[attribute][i] = 1"
   ]
  },
  {
   "cell_type": "code",
   "execution_count": 8,
   "metadata": {
    "scrolled": false
   },
   "outputs": [
    {
     "data": {
      "text/plain": [
       "{0: array([ 1.,  0.,  1., ...,  1.,  0.,  0.]),\n",
       " 1: array([ 1.,  1.,  0., ...,  0.,  1.,  1.]),\n",
       " 2: array([ 0.,  1.,  1., ...,  0.,  1.,  0.]),\n",
       " 3: array([ 1.,  1.,  0., ...,  1.,  1.,  0.]),\n",
       " 4: array([ 0.,  1.,  0., ...,  0.,  0.,  0.]),\n",
       " 5: array([ 1.,  1.,  0., ...,  0.,  1.,  0.]),\n",
       " 6: array([ 1.,  1.,  1., ...,  0.,  1.,  0.]),\n",
       " 7: array([ 0.,  1.,  0., ...,  0.,  0.,  0.]),\n",
       " 8: array([ 0.,  0.,  1., ...,  1.,  0.,  1.])}"
      ]
     },
     "execution_count": 8,
     "metadata": {},
     "output_type": "execute_result"
    }
   ],
   "source": [
    "labels_dict"
   ]
  },
  {
   "cell_type": "markdown",
   "metadata": {
    "collapsed": true
   },
   "source": [
    "# Train classifiers on top of the blueprint bottleneck features per restaurant"
   ]
  },
  {
   "cell_type": "code",
   "execution_count": 9,
   "metadata": {},
   "outputs": [
    {
     "name": "stderr",
     "output_type": "stream",
     "text": [
      "Using TensorFlow backend.\n"
     ]
    }
   ],
   "source": [
    "from keras import backend as K\n",
    "from keras import applications\n",
    "from keras.models import Sequential\n",
    "from keras.layers import Dense, Dropout\n",
    "from keras.optimizers import Adam"
   ]
  },
  {
   "cell_type": "markdown",
   "metadata": {},
   "source": [
    "### Create a copy of the VGG16 classifier(image net) -> adding dropout and binarizing the output"
   ]
  },
  {
   "cell_type": "code",
   "execution_count": 10,
   "metadata": {
    "collapsed": true
   },
   "outputs": [],
   "source": [
    "def get_binary_vgg16_classifier(drop_rate = 0.5):\n",
    "    \n",
    "    # Replicate the fc classifier of vgg net\n",
    "    model = Sequential()\n",
    "    model.add(Dense(101, activation='relu', name='predictions', input_shape=(4096,)))\n",
    "    \n",
    "    # Load pre trained weights for food-101\n",
    "    model.load_weights(DATA_DIR+'/weights/food101/'+'vgg16_food101_model.h5', by_name=True)\n",
    "    \n",
    "    # Remove the predictions layer and add a binary apply/doesen't apply neuron\n",
    "    model.pop()\n",
    "    model.add(Dense(1, activation='sigmoid', input_shape=(4096,)))\n",
    "    model.compile(optimizer=Adam(lr=1e-04), loss='binary_crossentropy', metrics=['accuracy'])\n",
    "    \n",
    "    return model"
   ]
  },
  {
   "cell_type": "markdown",
   "metadata": {},
   "source": [
    "# Train 4 classifiers per label, one for each fold"
   ]
  },
  {
   "cell_type": "code",
   "execution_count": 11,
   "metadata": {
    "collapsed": true
   },
   "outputs": [],
   "source": [
    "import gc"
   ]
  },
  {
   "cell_type": "code",
   "execution_count": 12,
   "metadata": {
    "scrolled": true
   },
   "outputs": [
    {
     "name": "stdout",
     "output_type": "stream",
     "text": [
      "0proportion:0.663827655311\n",
      "1proportion:0.50250501002\n",
      "2proportion:0.514028056112\n",
      "3proportion:0.50250501002\n",
      "4proportion:0.725951903808\n",
      "5proportion:0.625751503006\n",
      "6proportion:0.681362725451\n",
      "7proportion:0.713426853707\n",
      "8proportion:0.620240480962\n"
     ]
    }
   ],
   "source": [
    "for k, v in labels_dict.items():\n",
    "    pos_neg_num = np.bincount(v.astype(np.int32))\n",
    "    print(str(k) + 'proportion:' + str(pos_neg_num.max()/(pos_neg_num.max() + pos_neg_num.min())))"
   ]
  },
  {
   "cell_type": "code",
   "execution_count": 13,
   "metadata": {},
   "outputs": [
    {
     "name": "stdout",
     "output_type": "stream",
     "text": [
      "Train on 1497 samples, validate on 499 samples\n",
      "Epoch 1/100\n",
      "1497/1497 [==============================] - 0s - loss: 0.6117 - acc: 0.6587 - val_loss: 0.5703 - val_acc: 0.6874\n",
      "Epoch 2/100\n",
      "1497/1497 [==============================] - 0s - loss: 0.5507 - acc: 0.7121 - val_loss: 0.5206 - val_acc: 0.7275\n",
      "Epoch 3/100\n",
      "1497/1497 [==============================] - 0s - loss: 0.5144 - acc: 0.7308 - val_loss: 0.4942 - val_acc: 0.7535\n",
      "Epoch 4/100\n",
      "1497/1497 [==============================] - 0s - loss: 0.4906 - acc: 0.7609 - val_loss: 0.4842 - val_acc: 0.7715\n",
      "Epoch 5/100\n",
      "1497/1497 [==============================] - 0s - loss: 0.4752 - acc: 0.7769 - val_loss: 0.4611 - val_acc: 0.7776\n",
      "Epoch 6/100\n",
      "1497/1497 [==============================] - 0s - loss: 0.4610 - acc: 0.7802 - val_loss: 0.4490 - val_acc: 0.7936\n",
      "Epoch 7/100\n",
      "1497/1497 [==============================] - 0s - loss: 0.4547 - acc: 0.7882 - val_loss: 0.4427 - val_acc: 0.7976\n",
      "Epoch 8/100\n",
      "1497/1497 [==============================] - 0s - loss: 0.4475 - acc: 0.7862 - val_loss: 0.4385 - val_acc: 0.7976\n",
      "Epoch 9/100\n",
      "1497/1497 [==============================] - 0s - loss: 0.4412 - acc: 0.7976 - val_loss: 0.4346 - val_acc: 0.8036\n",
      "Epoch 10/100\n",
      "1497/1497 [==============================] - 0s - loss: 0.4364 - acc: 0.7949 - val_loss: 0.4243 - val_acc: 0.8096\n",
      "Epoch 11/100\n",
      "1497/1497 [==============================] - 0s - loss: 0.4334 - acc: 0.7929 - val_loss: 0.4206 - val_acc: 0.8116\n",
      "Epoch 12/100\n",
      "1497/1497 [==============================] - 0s - loss: 0.4283 - acc: 0.8003 - val_loss: 0.4251 - val_acc: 0.8076\n",
      "Epoch 13/100\n",
      "1497/1497 [==============================] - 0s - loss: 0.4269 - acc: 0.7983 - val_loss: 0.4153 - val_acc: 0.8156\n",
      "Epoch 14/100\n",
      "1497/1497 [==============================] - 0s - loss: 0.4248 - acc: 0.8076 - val_loss: 0.4128 - val_acc: 0.8196\n",
      "Epoch 15/100\n",
      "1497/1497 [==============================] - 0s - loss: 0.4222 - acc: 0.8009 - val_loss: 0.4135 - val_acc: 0.8257\n",
      "Epoch 16/100\n",
      "1497/1497 [==============================] - 0s - loss: 0.4203 - acc: 0.8009 - val_loss: 0.4156 - val_acc: 0.8116\n",
      "Epoch 17/100\n",
      "1497/1497 [==============================] - 0s - loss: 0.4172 - acc: 0.8110 - val_loss: 0.4236 - val_acc: 0.7956\n",
      "Epoch 18/100\n",
      "1497/1497 [==============================] - 0s - loss: 0.4168 - acc: 0.8136 - val_loss: 0.4091 - val_acc: 0.8257\n",
      "Epoch 19/100\n",
      "1497/1497 [==============================] - 0s - loss: 0.4149 - acc: 0.8083 - val_loss: 0.4086 - val_acc: 0.8176\n",
      "Epoch 20/100\n",
      "1497/1497 [==============================] - 0s - loss: 0.4154 - acc: 0.8063 - val_loss: 0.4029 - val_acc: 0.8257\n",
      "Epoch 21/100\n",
      "1497/1497 [==============================] - 0s - loss: 0.4114 - acc: 0.8130 - val_loss: 0.4042 - val_acc: 0.8236\n",
      "Epoch 22/100\n",
      "1497/1497 [==============================] - 0s - loss: 0.4112 - acc: 0.8136 - val_loss: 0.4015 - val_acc: 0.8257\n",
      "Epoch 23/100\n",
      "1497/1497 [==============================] - 0s - loss: 0.4093 - acc: 0.8116 - val_loss: 0.3995 - val_acc: 0.8357\n",
      "Epoch 24/100\n",
      "1497/1497 [==============================] - 0s - loss: 0.4082 - acc: 0.8156 - val_loss: 0.3987 - val_acc: 0.8357\n",
      "Epoch 25/100\n",
      "1497/1497 [==============================] - 0s - loss: 0.4060 - acc: 0.8163 - val_loss: 0.3980 - val_acc: 0.8357\n",
      "Epoch 26/100\n",
      "1497/1497 [==============================] - 0s - loss: 0.4052 - acc: 0.8183 - val_loss: 0.3993 - val_acc: 0.8317\n",
      "Epoch 27/100\n",
      "  32/1497 [..............................] - ETA: 0s - loss: 0.4628 - acc: 0.7188"
     ]
    },
    {
     "ename": "KeyboardInterrupt",
     "evalue": "",
     "output_type": "error",
     "traceback": [
      "\u001b[0;31m---------------------------------------------------------------------------\u001b[0m",
      "\u001b[0;31mKeyboardInterrupt\u001b[0m                         Traceback (most recent call last)",
      "\u001b[0;32m<ipython-input-13-5db6ba720404>\u001b[0m in \u001b[0;36m<module>\u001b[0;34m()\u001b[0m\n\u001b[1;32m     16\u001b[0m         \u001b[0mX_valid\u001b[0m \u001b[0;34m=\u001b[0m \u001b[0mbusinesses_fc1_features\u001b[0m\u001b[0;34m[\u001b[0m\u001b[0mvalid_idx\u001b[0m\u001b[0;34m,\u001b[0m \u001b[0;34m:\u001b[0m\u001b[0;34m]\u001b[0m\u001b[0;34m;\u001b[0m \u001b[0my_valid\u001b[0m \u001b[0;34m=\u001b[0m \u001b[0mlabels_dict\u001b[0m\u001b[0;34m[\u001b[0m\u001b[0mattribute\u001b[0m\u001b[0;34m]\u001b[0m\u001b[0;34m[\u001b[0m\u001b[0mvalid_idx\u001b[0m\u001b[0;34m]\u001b[0m\u001b[0;34m\u001b[0m\u001b[0m\n\u001b[1;32m     17\u001b[0m \u001b[0;34m\u001b[0m\u001b[0m\n\u001b[0;32m---> 18\u001b[0;31m         \u001b[0mh\u001b[0m \u001b[0;34m=\u001b[0m \u001b[0mclassifier_model\u001b[0m\u001b[0;34m.\u001b[0m\u001b[0mfit\u001b[0m\u001b[0;34m(\u001b[0m\u001b[0mX_train\u001b[0m\u001b[0;34m,\u001b[0m \u001b[0my_train\u001b[0m\u001b[0;34m,\u001b[0m \u001b[0mvalidation_data\u001b[0m\u001b[0;34m=\u001b[0m\u001b[0;34m(\u001b[0m\u001b[0mX_valid\u001b[0m\u001b[0;34m,\u001b[0m \u001b[0my_valid\u001b[0m\u001b[0;34m)\u001b[0m\u001b[0;34m,\u001b[0m \u001b[0mepochs\u001b[0m\u001b[0;34m=\u001b[0m\u001b[0;36m100\u001b[0m\u001b[0;34m)\u001b[0m\u001b[0;34m\u001b[0m\u001b[0m\n\u001b[0m\u001b[1;32m     19\u001b[0m         \u001b[0mnp\u001b[0m\u001b[0;34m.\u001b[0m\u001b[0msave\u001b[0m\u001b[0;34m(\u001b[0m\u001b[0mRESULTS_PATH\u001b[0m\u001b[0;34m+\u001b[0m\u001b[0;34m'/history_prediction_attribute_%d_fold_%d'\u001b[0m\u001b[0;34m%\u001b[0m\u001b[0;34m(\u001b[0m\u001b[0mattribute\u001b[0m\u001b[0;34m,\u001b[0m \u001b[0mval_fold\u001b[0m\u001b[0;34m)\u001b[0m\u001b[0;34m,\u001b[0m \u001b[0mh\u001b[0m\u001b[0;34m.\u001b[0m\u001b[0mhistory\u001b[0m\u001b[0;34m)\u001b[0m\u001b[0;34m\u001b[0m\u001b[0m\n\u001b[1;32m     20\u001b[0m \u001b[0;34m\u001b[0m\u001b[0m\n",
      "\u001b[0;32m~/anaconda3/lib/python3.6/site-packages/keras/models.py\u001b[0m in \u001b[0;36mfit\u001b[0;34m(self, x, y, batch_size, epochs, verbose, callbacks, validation_split, validation_data, shuffle, class_weight, sample_weight, initial_epoch, **kwargs)\u001b[0m\n\u001b[1;32m    865\u001b[0m                               \u001b[0mclass_weight\u001b[0m\u001b[0;34m=\u001b[0m\u001b[0mclass_weight\u001b[0m\u001b[0;34m,\u001b[0m\u001b[0;34m\u001b[0m\u001b[0m\n\u001b[1;32m    866\u001b[0m                               \u001b[0msample_weight\u001b[0m\u001b[0;34m=\u001b[0m\u001b[0msample_weight\u001b[0m\u001b[0;34m,\u001b[0m\u001b[0;34m\u001b[0m\u001b[0m\n\u001b[0;32m--> 867\u001b[0;31m                               initial_epoch=initial_epoch)\n\u001b[0m\u001b[1;32m    868\u001b[0m \u001b[0;34m\u001b[0m\u001b[0m\n\u001b[1;32m    869\u001b[0m     def evaluate(self, x, y, batch_size=32, verbose=1,\n",
      "\u001b[0;32m~/anaconda3/lib/python3.6/site-packages/keras/engine/training.py\u001b[0m in \u001b[0;36mfit\u001b[0;34m(self, x, y, batch_size, epochs, verbose, callbacks, validation_split, validation_data, shuffle, class_weight, sample_weight, initial_epoch, steps_per_epoch, validation_steps, **kwargs)\u001b[0m\n\u001b[1;32m   1596\u001b[0m                               \u001b[0minitial_epoch\u001b[0m\u001b[0;34m=\u001b[0m\u001b[0minitial_epoch\u001b[0m\u001b[0;34m,\u001b[0m\u001b[0;34m\u001b[0m\u001b[0m\n\u001b[1;32m   1597\u001b[0m                               \u001b[0msteps_per_epoch\u001b[0m\u001b[0;34m=\u001b[0m\u001b[0msteps_per_epoch\u001b[0m\u001b[0;34m,\u001b[0m\u001b[0;34m\u001b[0m\u001b[0m\n\u001b[0;32m-> 1598\u001b[0;31m                               validation_steps=validation_steps)\n\u001b[0m\u001b[1;32m   1599\u001b[0m \u001b[0;34m\u001b[0m\u001b[0m\n\u001b[1;32m   1600\u001b[0m     def evaluate(self, x, y,\n",
      "\u001b[0;32m~/anaconda3/lib/python3.6/site-packages/keras/engine/training.py\u001b[0m in \u001b[0;36m_fit_loop\u001b[0;34m(self, f, ins, out_labels, batch_size, epochs, verbose, callbacks, val_f, val_ins, shuffle, callback_metrics, initial_epoch, steps_per_epoch, validation_steps)\u001b[0m\n\u001b[1;32m   1181\u001b[0m                     \u001b[0mbatch_logs\u001b[0m\u001b[0;34m[\u001b[0m\u001b[0;34m'size'\u001b[0m\u001b[0;34m]\u001b[0m \u001b[0;34m=\u001b[0m \u001b[0mlen\u001b[0m\u001b[0;34m(\u001b[0m\u001b[0mbatch_ids\u001b[0m\u001b[0;34m)\u001b[0m\u001b[0;34m\u001b[0m\u001b[0m\n\u001b[1;32m   1182\u001b[0m                     \u001b[0mcallbacks\u001b[0m\u001b[0;34m.\u001b[0m\u001b[0mon_batch_begin\u001b[0m\u001b[0;34m(\u001b[0m\u001b[0mbatch_index\u001b[0m\u001b[0;34m,\u001b[0m \u001b[0mbatch_logs\u001b[0m\u001b[0;34m)\u001b[0m\u001b[0;34m\u001b[0m\u001b[0m\n\u001b[0;32m-> 1183\u001b[0;31m                     \u001b[0mouts\u001b[0m \u001b[0;34m=\u001b[0m \u001b[0mf\u001b[0m\u001b[0;34m(\u001b[0m\u001b[0mins_batch\u001b[0m\u001b[0;34m)\u001b[0m\u001b[0;34m\u001b[0m\u001b[0m\n\u001b[0m\u001b[1;32m   1184\u001b[0m                     \u001b[0;32mif\u001b[0m \u001b[0;32mnot\u001b[0m \u001b[0misinstance\u001b[0m\u001b[0;34m(\u001b[0m\u001b[0mouts\u001b[0m\u001b[0;34m,\u001b[0m \u001b[0mlist\u001b[0m\u001b[0;34m)\u001b[0m\u001b[0;34m:\u001b[0m\u001b[0;34m\u001b[0m\u001b[0m\n\u001b[1;32m   1185\u001b[0m                         \u001b[0mouts\u001b[0m \u001b[0;34m=\u001b[0m \u001b[0;34m[\u001b[0m\u001b[0mouts\u001b[0m\u001b[0;34m]\u001b[0m\u001b[0;34m\u001b[0m\u001b[0m\n",
      "\u001b[0;32m~/anaconda3/lib/python3.6/site-packages/keras/backend/tensorflow_backend.py\u001b[0m in \u001b[0;36m__call__\u001b[0;34m(self, inputs)\u001b[0m\n\u001b[1;32m   2271\u001b[0m         updated = session.run(self.outputs + [self.updates_op],\n\u001b[1;32m   2272\u001b[0m                               \u001b[0mfeed_dict\u001b[0m\u001b[0;34m=\u001b[0m\u001b[0mfeed_dict\u001b[0m\u001b[0;34m,\u001b[0m\u001b[0;34m\u001b[0m\u001b[0m\n\u001b[0;32m-> 2273\u001b[0;31m                               **self.session_kwargs)\n\u001b[0m\u001b[1;32m   2274\u001b[0m         \u001b[0;32mreturn\u001b[0m \u001b[0mupdated\u001b[0m\u001b[0;34m[\u001b[0m\u001b[0;34m:\u001b[0m\u001b[0mlen\u001b[0m\u001b[0;34m(\u001b[0m\u001b[0mself\u001b[0m\u001b[0;34m.\u001b[0m\u001b[0moutputs\u001b[0m\u001b[0;34m)\u001b[0m\u001b[0;34m]\u001b[0m\u001b[0;34m\u001b[0m\u001b[0m\n\u001b[1;32m   2275\u001b[0m \u001b[0;34m\u001b[0m\u001b[0m\n",
      "\u001b[0;32m~/anaconda3/lib/python3.6/site-packages/tensorflow/python/client/session.py\u001b[0m in \u001b[0;36mrun\u001b[0;34m(self, fetches, feed_dict, options, run_metadata)\u001b[0m\n\u001b[1;32m    893\u001b[0m     \u001b[0;32mtry\u001b[0m\u001b[0;34m:\u001b[0m\u001b[0;34m\u001b[0m\u001b[0m\n\u001b[1;32m    894\u001b[0m       result = self._run(None, fetches, feed_dict, options_ptr,\n\u001b[0;32m--> 895\u001b[0;31m                          run_metadata_ptr)\n\u001b[0m\u001b[1;32m    896\u001b[0m       \u001b[0;32mif\u001b[0m \u001b[0mrun_metadata\u001b[0m\u001b[0;34m:\u001b[0m\u001b[0;34m\u001b[0m\u001b[0m\n\u001b[1;32m    897\u001b[0m         \u001b[0mproto_data\u001b[0m \u001b[0;34m=\u001b[0m \u001b[0mtf_session\u001b[0m\u001b[0;34m.\u001b[0m\u001b[0mTF_GetBuffer\u001b[0m\u001b[0;34m(\u001b[0m\u001b[0mrun_metadata_ptr\u001b[0m\u001b[0;34m)\u001b[0m\u001b[0;34m\u001b[0m\u001b[0m\n",
      "\u001b[0;32m~/anaconda3/lib/python3.6/site-packages/tensorflow/python/client/session.py\u001b[0m in \u001b[0;36m_run\u001b[0;34m(self, handle, fetches, feed_dict, options, run_metadata)\u001b[0m\n\u001b[1;32m   1122\u001b[0m     \u001b[0;32mif\u001b[0m \u001b[0mfinal_fetches\u001b[0m \u001b[0;32mor\u001b[0m \u001b[0mfinal_targets\u001b[0m \u001b[0;32mor\u001b[0m \u001b[0;34m(\u001b[0m\u001b[0mhandle\u001b[0m \u001b[0;32mand\u001b[0m \u001b[0mfeed_dict_tensor\u001b[0m\u001b[0;34m)\u001b[0m\u001b[0;34m:\u001b[0m\u001b[0;34m\u001b[0m\u001b[0m\n\u001b[1;32m   1123\u001b[0m       results = self._do_run(handle, final_targets, final_fetches,\n\u001b[0;32m-> 1124\u001b[0;31m                              feed_dict_tensor, options, run_metadata)\n\u001b[0m\u001b[1;32m   1125\u001b[0m     \u001b[0;32melse\u001b[0m\u001b[0;34m:\u001b[0m\u001b[0;34m\u001b[0m\u001b[0m\n\u001b[1;32m   1126\u001b[0m       \u001b[0mresults\u001b[0m \u001b[0;34m=\u001b[0m \u001b[0;34m[\u001b[0m\u001b[0;34m]\u001b[0m\u001b[0;34m\u001b[0m\u001b[0m\n",
      "\u001b[0;32m~/anaconda3/lib/python3.6/site-packages/tensorflow/python/client/session.py\u001b[0m in \u001b[0;36m_do_run\u001b[0;34m(self, handle, target_list, fetch_list, feed_dict, options, run_metadata)\u001b[0m\n\u001b[1;32m   1319\u001b[0m     \u001b[0;32mif\u001b[0m \u001b[0mhandle\u001b[0m \u001b[0;32mis\u001b[0m \u001b[0;32mNone\u001b[0m\u001b[0;34m:\u001b[0m\u001b[0;34m\u001b[0m\u001b[0m\n\u001b[1;32m   1320\u001b[0m       return self._do_call(_run_fn, self._session, feeds, fetches, targets,\n\u001b[0;32m-> 1321\u001b[0;31m                            options, run_metadata)\n\u001b[0m\u001b[1;32m   1322\u001b[0m     \u001b[0;32melse\u001b[0m\u001b[0;34m:\u001b[0m\u001b[0;34m\u001b[0m\u001b[0m\n\u001b[1;32m   1323\u001b[0m       \u001b[0;32mreturn\u001b[0m \u001b[0mself\u001b[0m\u001b[0;34m.\u001b[0m\u001b[0m_do_call\u001b[0m\u001b[0;34m(\u001b[0m\u001b[0m_prun_fn\u001b[0m\u001b[0;34m,\u001b[0m \u001b[0mself\u001b[0m\u001b[0;34m.\u001b[0m\u001b[0m_session\u001b[0m\u001b[0;34m,\u001b[0m \u001b[0mhandle\u001b[0m\u001b[0;34m,\u001b[0m \u001b[0mfeeds\u001b[0m\u001b[0;34m,\u001b[0m \u001b[0mfetches\u001b[0m\u001b[0;34m)\u001b[0m\u001b[0;34m\u001b[0m\u001b[0m\n",
      "\u001b[0;32m~/anaconda3/lib/python3.6/site-packages/tensorflow/python/client/session.py\u001b[0m in \u001b[0;36m_do_call\u001b[0;34m(self, fn, *args)\u001b[0m\n\u001b[1;32m   1325\u001b[0m   \u001b[0;32mdef\u001b[0m \u001b[0m_do_call\u001b[0m\u001b[0;34m(\u001b[0m\u001b[0mself\u001b[0m\u001b[0;34m,\u001b[0m \u001b[0mfn\u001b[0m\u001b[0;34m,\u001b[0m \u001b[0;34m*\u001b[0m\u001b[0margs\u001b[0m\u001b[0;34m)\u001b[0m\u001b[0;34m:\u001b[0m\u001b[0;34m\u001b[0m\u001b[0m\n\u001b[1;32m   1326\u001b[0m     \u001b[0;32mtry\u001b[0m\u001b[0;34m:\u001b[0m\u001b[0;34m\u001b[0m\u001b[0m\n\u001b[0;32m-> 1327\u001b[0;31m       \u001b[0;32mreturn\u001b[0m \u001b[0mfn\u001b[0m\u001b[0;34m(\u001b[0m\u001b[0;34m*\u001b[0m\u001b[0margs\u001b[0m\u001b[0;34m)\u001b[0m\u001b[0;34m\u001b[0m\u001b[0m\n\u001b[0m\u001b[1;32m   1328\u001b[0m     \u001b[0;32mexcept\u001b[0m \u001b[0merrors\u001b[0m\u001b[0;34m.\u001b[0m\u001b[0mOpError\u001b[0m \u001b[0;32mas\u001b[0m \u001b[0me\u001b[0m\u001b[0;34m:\u001b[0m\u001b[0;34m\u001b[0m\u001b[0m\n\u001b[1;32m   1329\u001b[0m       \u001b[0mmessage\u001b[0m \u001b[0;34m=\u001b[0m \u001b[0mcompat\u001b[0m\u001b[0;34m.\u001b[0m\u001b[0mas_text\u001b[0m\u001b[0;34m(\u001b[0m\u001b[0me\u001b[0m\u001b[0;34m.\u001b[0m\u001b[0mmessage\u001b[0m\u001b[0;34m)\u001b[0m\u001b[0;34m\u001b[0m\u001b[0m\n",
      "\u001b[0;32m~/anaconda3/lib/python3.6/site-packages/tensorflow/python/client/session.py\u001b[0m in \u001b[0;36m_run_fn\u001b[0;34m(session, feed_dict, fetch_list, target_list, options, run_metadata)\u001b[0m\n\u001b[1;32m   1304\u001b[0m           return tf_session.TF_Run(session, options,\n\u001b[1;32m   1305\u001b[0m                                    \u001b[0mfeed_dict\u001b[0m\u001b[0;34m,\u001b[0m \u001b[0mfetch_list\u001b[0m\u001b[0;34m,\u001b[0m \u001b[0mtarget_list\u001b[0m\u001b[0;34m,\u001b[0m\u001b[0;34m\u001b[0m\u001b[0m\n\u001b[0;32m-> 1306\u001b[0;31m                                    status, run_metadata)\n\u001b[0m\u001b[1;32m   1307\u001b[0m \u001b[0;34m\u001b[0m\u001b[0m\n\u001b[1;32m   1308\u001b[0m     \u001b[0;32mdef\u001b[0m \u001b[0m_prun_fn\u001b[0m\u001b[0;34m(\u001b[0m\u001b[0msession\u001b[0m\u001b[0;34m,\u001b[0m \u001b[0mhandle\u001b[0m\u001b[0;34m,\u001b[0m \u001b[0mfeed_dict\u001b[0m\u001b[0;34m,\u001b[0m \u001b[0mfetch_list\u001b[0m\u001b[0;34m)\u001b[0m\u001b[0;34m:\u001b[0m\u001b[0;34m\u001b[0m\u001b[0m\n",
      "\u001b[0;31mKeyboardInterrupt\u001b[0m: "
     ]
    }
   ],
   "source": [
    "for attribute in range(attributes):\n",
    "    for val_fold in range(len(folds)):\n",
    "        \n",
    "        K.clear_session()\n",
    "        gc.collect()\n",
    "        \n",
    "        # grab a binary classifier model with imagenet weights\n",
    "        classifier_model = get_binary_vgg16_classifier()\n",
    "        \n",
    "        # grab the training-validation data\n",
    "        train_idx = []\n",
    "        train_idx = [fold_idx for i, fold_idx in folds.items() if i != val_fold]\n",
    "        train_idx = np.array([idx for sublist in train_idx for idx in sublist], dtype=np.int32)\n",
    "        valid_idx = np.array(folds[val_fold], dtype=np.int32)\n",
    "        X_train = businesses_fc1_features[train_idx, :]; y_train = labels_dict[attribute][train_idx]\n",
    "        X_valid = businesses_fc1_features[valid_idx, :]; y_valid = labels_dict[attribute][valid_idx]\n",
    "        \n",
    "        h = classifier_model.fit(X_train, y_train, validation_data=(X_valid, y_valid), epochs=100)\n",
    "        np.save(RESULTS_PATH+'/history_prediction_attribute_%d_fold_%d'%(attribute, val_fold), h.history)\n",
    "        \n",
    "        \n",
    "        classifier_model.compile(optimizer=Adam(lr=1e-04), loss='binary_crossentropy', metrics=['accuracy'])\n",
    "        h = classifier_model.fit(X_train, y_train, validation_data=(X_valid, y_valid), epochs=100)\n",
    "        np.save(RESULTS_PATH+'/history_fc2_attribute_%d_fold_%d'%(attribute, val_fold), h.history)\n",
    "        \n",
    "        classifier_model.save_weights(RESULTS_PATH+'/ft_200_attribute_%d_fold_%d.h5' % (attribute, val_fold))\n",
    "        \n",
    "        "
   ]
  },
  {
   "cell_type": "markdown",
   "metadata": {
    "collapsed": true
   },
   "source": [
    "## Predict Probabilites of each attribute of the given training restaurants"
   ]
  },
  {
   "cell_type": "code",
   "execution_count": 14,
   "metadata": {
    "collapsed": true
   },
   "outputs": [],
   "source": [
    "from keras import backend as K"
   ]
  },
  {
   "cell_type": "code",
   "execution_count": 15,
   "metadata": {
    "collapsed": true
   },
   "outputs": [],
   "source": [
    "nb_businesses = len(businesses)\n",
    "nb_attributes = 9\n",
    "\n",
    "proba_preds = np.empty((nb_businesses, nb_attributes))"
   ]
  },
  {
   "cell_type": "code",
   "execution_count": null,
   "metadata": {
    "collapsed": true
   },
   "outputs": [],
   "source": [
    "for attribute in range(attributes):\n",
    "    proba_attribute = np.array([]) # initialize attribute probabilities\n",
    "    for val_fold in range(len(folds)):\n",
    "\n",
    "        K.clear_session()\n",
    "        gc.collect()\n",
    "\n",
    "        # grab the binary model and load the trained weights\n",
    "        classifier_model = get_binary_vgg16_classifier()\n",
    "        classifier_model.load_weights(CLASSIFIERS_PATH+'weights/ft_200_attribute_%d_fold_%d.h5' % (attribute, val_fold))\n",
    "\n",
    "        val_idx = folds[val_fold]\n",
    "        # grab the businesses_fc1_features as the training set\n",
    "        X_val = businesses_fc1_features[val_idx]\n",
    "        \n",
    "        # predict the probabilty of the attribute for the given classifier \n",
    "        predicted_proba = classifier_model.predict_proba(X_val).flatten()\n",
    "        print(predicted_proba.shape)\n",
    "        proba_attribute = np.concatenate((proba_attribute, classifier_model.predict_proba(X_val).flatten()))\n",
    "    \n",
    "    proba_preds[:, attribute] = (proba_attribute)\n",
    "np.save(CLASSIFIERS_PATH+'/probas/'+'train_attributes_probas.npy', proba_preds)"
   ]
  },
  {
   "cell_type": "markdown",
   "metadata": {
    "collapsed": true
   },
   "source": [
    "## Test Set"
   ]
  },
  {
   "cell_type": "markdown",
   "metadata": {},
   "source": [
    "### Start with the list of business and the FC1 Buisness (see Extract_F1_Features.ipynb)"
   ]
  },
  {
   "cell_type": "code",
   "execution_count": 5,
   "metadata": {
    "collapsed": true
   },
   "outputs": [],
   "source": [
    "businesses = np.load(SHARED_PATH+'/test_businesses_shuffled.npy')\n",
    "businesses_fc1_features = np.load(FEATURES_PATH + 'test_businesses_fc1_blueprint.npy')"
   ]
  },
  {
   "cell_type": "markdown",
   "metadata": {
    "collapsed": true
   },
   "source": [
    "# Load classifiers and make predictions"
   ]
  },
  {
   "cell_type": "code",
   "execution_count": 6,
   "metadata": {},
   "outputs": [
    {
     "name": "stderr",
     "output_type": "stream",
     "text": [
      "Using TensorFlow backend.\n"
     ]
    }
   ],
   "source": [
    "from keras import backend as K\n",
    "from keras import applications\n",
    "from keras.models import Sequential\n",
    "from keras.layers import Dense, Dropout\n",
    "from keras.optimizers import Adam"
   ]
  },
  {
   "cell_type": "markdown",
   "metadata": {},
   "source": [
    "### Create a copy of the VGG16 classifier(image net) -> adding dropout and binarizing the output"
   ]
  },
  {
   "cell_type": "code",
   "execution_count": 7,
   "metadata": {
    "collapsed": true
   },
   "outputs": [],
   "source": [
    "def get_binary_vgg16_classifier(drop_rate = 0.5):\n",
    "    \n",
    "    # Replicate the fc classifier of vgg net\n",
    "    model = Sequential()\n",
    "    model.add(Dense(101, activation='relu', name='predictions', input_shape=(4096,)))\n",
    "    \n",
    "    # Load pre trained weights for food-101\n",
    "    model.load_weights(DATA_DIR+'/weights/food101/'+'vgg16_food101_model.h5', by_name=True)\n",
    "    \n",
    "    # Remove the predictions layer and add a binary apply/doesen't apply neuron\n",
    "    model.pop()\n",
    "    model.add(Dense(1, activation='sigmoid', input_shape=(4096,)))\n",
    "    model.compile(optimizer=Adam(lr=1e-04), loss='binary_crossentropy', metrics=['accuracy'])\n",
    "    \n",
    "    return model"
   ]
  },
  {
   "cell_type": "markdown",
   "metadata": {
    "collapsed": true
   },
   "source": [
    "## Predict Probabilites of each attribute of the given training restaurants"
   ]
  },
  {
   "cell_type": "code",
   "execution_count": 14,
   "metadata": {
    "collapsed": true
   },
   "outputs": [],
   "source": [
    "from keras import backend as K"
   ]
  },
  {
   "cell_type": "code",
   "execution_count": 15,
   "metadata": {
    "collapsed": true
   },
   "outputs": [],
   "source": [
    "nb_businesses = len(businesses)\n",
    "nb_attributes = 9\n",
    "nb_folds = 4\n",
    "\n",
    "proba_preds = np.empty((nb_businesses, nb_attributes))"
   ]
  },
  {
   "cell_type": "code",
   "execution_count": 16,
   "metadata": {},
   "outputs": [
    {
     "name": "stdout",
     "output_type": "stream",
     "text": [
      " 9952/10000 [============================>.] - ETA: 0s(10000,)\n",
      " 9984/10000 [============================>.] - ETA: 0s(10000,)\n",
      "10000/10000 [==============================] - 0s     \n",
      "(10000,)\n",
      " 9984/10000 [============================>.] - ETA: 0s(10000,)\n",
      " 7552/10000 [=====================>........] - ETA: 0s(10000,)\n",
      " 9920/10000 [============================>.] - ETA: 0s(10000,)\n",
      " 7744/10000 [======================>.......] - ETA: 0s(10000,)\n",
      " 7584/10000 [=====================>........] - ETA: 0s(10000,)\n",
      " 9856/10000 [============================>.] - ETA: 0s(10000,)\n",
      " 7584/10000 [=====================>........] - ETA: 0s(10000,)\n",
      " 9920/10000 [============================>.] - ETA: 0s(10000,)\n",
      " 7392/10000 [=====================>........] - ETA: 0s(10000,)\n",
      "10000/10000 [==============================] - 0s     \n",
      "(10000,)\n",
      " 7520/10000 [=====================>........] - ETA: 0s(10000,)\n",
      "10000/10000 [==============================] - 0s     \n",
      "(10000,)\n",
      " 7456/10000 [=====================>........] - ETA: 0s(10000,)\n",
      " 9920/10000 [============================>.] - ETA: 0s(10000,)\n",
      " 9920/10000 [============================>.] - ETA: 0s(10000,)\n",
      " 7648/10000 [=====================>........] - ETA: 0s(10000,)\n",
      " 7456/10000 [=====================>........] - ETA: 0s(10000,)\n",
      " 7552/10000 [=====================>........] - ETA: 0s(10000,)\n",
      " 7424/10000 [=====================>........] - ETA: 0s(10000,)\n",
      " 7520/10000 [=====================>........] - ETA: 0s(10000,)\n",
      " 7648/10000 [=====================>........] - ETA: 0s(10000,)\n",
      " 7520/10000 [=====================>........] - ETA: 0s(10000,)\n",
      " 7328/10000 [====================>.........] - ETA: 0s(10000,)\n",
      " 9792/10000 [============================>.] - ETA: 0s(10000,)\n",
      " 9984/10000 [============================>.] - ETA: 0s(10000,)\n",
      "10000/10000 [==============================] - 0s     \n",
      "(10000,)\n",
      " 9728/10000 [============================>.] - ETA: 0s(10000,)\n",
      " 9888/10000 [============================>.] - ETA: 0s(10000,)\n",
      " 7616/10000 [=====================>........] - ETA: 0s(10000,)\n",
      " 7584/10000 [=====================>........] - ETA: 0s(10000,)\n",
      " 7584/10000 [=====================>........] - ETA: 0s(10000,)\n",
      " 9984/10000 [============================>.] - ETA: 0s(10000,)\n",
      " 8192/10000 [=======================>......] - ETA: 0s(10000,)\n"
     ]
    }
   ],
   "source": [
    "for attribute in range(nb_attributes):\n",
    "    proba_attribute = np.zeros(nb_businesses) # initialize attribute probabilities\n",
    "    for val_fold in range(nb_folds):\n",
    "\n",
    "        K.clear_session()\n",
    "        gc.collect()\n",
    "\n",
    "        # grab the binary model and load the trained weights\n",
    "        classifier_model = get_binary_vgg16_classifier()\n",
    "        classifier_model.load_weights(CLASSIFIERS_PATH+'weights/ft_200_attribute_%d_fold_%d.h5' % (attribute, val_fold))\n",
    "\n",
    "        # grab the businesses_fc1_features in the test set\n",
    "        X_test = businesses_fc1_features\n",
    "        \n",
    "        # predict the probabilty of the attribute for the given classifier \n",
    "        predicted_proba = classifier_model.predict_proba(X_test).flatten()\n",
    "        print(predicted_proba.shape)\n",
    "        proba_attribute += predicted_proba\n",
    "    \n",
    "    proba_preds[:, attribute] = (proba_attribute) / 4\n",
    "np.save(CLASSIFIERS_PATH+'/probas/'+'test_attributes_probas.npy', proba_preds)"
   ]
  },
  {
   "cell_type": "code",
   "execution_count": 21,
   "metadata": {
    "scrolled": true
   },
   "outputs": [
    {
     "data": {
      "text/plain": [
       "array([ 0.09096343,  0.89325167,  0.90448537,  0.46618379,  0.3133437 ,\n",
       "        0.84506671,  0.99356112,  0.37737395,  0.54179413])"
      ]
     },
     "execution_count": 21,
     "metadata": {},
     "output_type": "execute_result"
    }
   ],
   "source": [
    "proba_preds[2, :]"
   ]
  },
  {
   "cell_type": "code",
   "execution_count": 22,
   "metadata": {},
   "outputs": [
    {
     "data": {
      "text/plain": [
       "array([ 0.13187651,  0.64056262,  0.75980102,  0.43684884,  0.18323648,\n",
       "        0.8241327 ,  0.9741966 ,  0.17336291,  0.78725651])"
      ]
     },
     "execution_count": 22,
     "metadata": {},
     "output_type": "execute_result"
    }
   ],
   "source": [
    "proba_preds[0, :]"
   ]
  },
  {
   "cell_type": "code",
   "execution_count": 23,
   "metadata": {},
   "outputs": [
    {
     "data": {
      "text/plain": [
       "array([ 0.24460572,  0.41693479,  0.84464622,  0.7328427 ,  0.46463527,\n",
       "        0.90677592,  0.95867929,  0.43787192,  0.51530321])"
      ]
     },
     "execution_count": 23,
     "metadata": {},
     "output_type": "execute_result"
    }
   ],
   "source": [
    "proba_preds[1, :]"
   ]
  },
  {
   "cell_type": "code",
   "execution_count": null,
   "metadata": {
    "collapsed": true
   },
   "outputs": [],
   "source": []
  }
 ],
 "metadata": {
  "kernelspec": {
   "display_name": "Python 3",
   "language": "python",
   "name": "python3"
  },
  "language_info": {
   "codemirror_mode": {
    "name": "ipython",
    "version": 3
   },
   "file_extension": ".py",
   "mimetype": "text/x-python",
   "name": "python",
   "nbconvert_exporter": "python",
   "pygments_lexer": "ipython3",
   "version": "3.6.2"
  }
 },
 "nbformat": 4,
 "nbformat_minor": 2
}
